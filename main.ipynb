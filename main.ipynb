{
 "cells": [
  {
   "cell_type": "code",
   "execution_count": 28,
   "metadata": {},
   "outputs": [],
   "source": [
    "!pip install networkx gensim node2vec -q\n",
    "!pip install --upgrade --force-reinstall networkx gensim node2vec scipy numpy -q\n",
    "!pip install networkx gensim node2vec pyvis matplotlib scikit-learn -q"
   ]
  },
  {
   "cell_type": "code",
   "execution_count": 20,
   "metadata": {},
   "outputs": [
    {
     "data": {
      "text/plain": [
       "'\\n# Step 1: Create a simple graph\\nG = nx.Graph()\\nedges = [\\n    (1, 2), (1, 3), (2, 4), (3, 4),\\n    (4, 5), (5, 6), (5, 7), (6, 7)\\n]\\nG.add_edges_from(edges)\\n\\n# Update node names to reflect individuals and companies\\nnode_names = {1: \\'Individual A\\', 2: \\'Company X\\', 3: \\'Individual B\\', 4: \\'Company Y\\', 5: \\'Individual C\\', 6: \\'Company Z\\', 7: \\'Individual D\\'}\\nG = nx.relabel_nodes(G, node_names)\\n\\n# Step 2: Generate node2vec walks\\nnode2vec = Node2Vec(G, dimensions=64, walk_length=10, num_walks=100, workers=1)\\nwalks = [list(map(str, walk)) for walk in node2vec.walks]\\n\\n# Step 3: Train Word2Vec\\nmodel = Word2Vec(sentences=walks, vector_size=64, window=5, min_count=1, sg=1, workers=1)\\n\\n# Step 4: Visualization with pyvis (graph layout)\\nnet = Network(notebook=True)\\nfor node in G.nodes:\\n    color = \\'red\\' if node == \\'Individual Y\\' else \\'blue\\'\\n    embedding = model.wv[str(node)]\\n    tooltip = f\"Embedding: {embedding}\"\\n    net.add_node(str(node), label=str(node), color=color, title=tooltip)\\nfor edge in G.edges:\\n    net.add_edge(str(edge[0]), str(edge[1]))\\nnet.show(\"graph_structure.html\")\\n\\n# Step 5: t-SNE + Matplotlib to visualize embeddings\\n# Collect embeddings\\nlabels = list(model.wv.index_to_key)\\nvectors = [model.wv[label] for label in labels]\\n\\n# Convert vectors to a NumPy array\\nvectors_array = np.array(vectors)\\n\\n# Reduce dimensionality\\ntsne = TSNE(n_components=2, random_state=42, perplexity=5)\\nreduced_vecs = tsne.fit_transform(vectors_array)\\n\\n# Plot\\nplt.figure(figsize=(8, 6))\\nfor i, label in enumerate(labels):\\n    x, y = reduced_vecs[i]\\n    color = \\'red\\' if label == \\'Individual C\\' else \\'blue\\'\\n    plt.scatter(x, y, color=color)\\n    plt.text(x + 0.01, y + 0.01, label, fontsize=9)\\nplt.title(\"Node Embeddings Visualized with t-SNE\")\\nplt.xlabel(\"t-SNE 1\")\\nplt.ylabel(\"t-SNE 2\")\\nplt.grid(True)\\nplt.tight_layout()\\nplt.show()\\n\\n'"
      ]
     },
     "execution_count": 20,
     "metadata": {},
     "output_type": "execute_result"
    }
   ],
   "source": [
    "import networkx as nx\n",
    "import numpy as np\n",
    "from node2vec import Node2Vec\n",
    "from gensim.models import Word2Vec\n",
    "from pyvis.network import Network\n",
    "import matplotlib.pyplot as plt\n",
    "from sklearn.manifold import TSNE"
   ]
  },
  {
   "cell_type": "code",
   "execution_count": 19,
   "metadata": {},
   "outputs": [
    {
     "name": "stderr",
     "output_type": "stream",
     "text": [
      "Computing transition probabilities: 100%|██████████| 25/25 [00:00<00:00, 17181.32it/s]\n",
      "Generating walks (CPU: 1): 100%|██████████| 100/100 [00:00<00:00, 1087.02it/s]"
     ]
    },
    {
     "name": "stdout",
     "output_type": "stream",
     "text": [
      "Warning: When  cdn_resources is 'local' jupyter notebook has issues displaying graphics on chrome/safari. Use cdn_resources='in_line' or cdn_resources='remote' if you have issues viewing graphics in a notebook.\n",
      "graph_step_1.html\n"
     ]
    },
    {
     "name": "stderr",
     "output_type": "stream",
     "text": [
      "\n"
     ]
    },
    {
     "data": {
      "text/html": [
       "\n",
       "        <iframe\n",
       "            width=\"100%\"\n",
       "            height=\"600px\"\n",
       "            src=\"graph_step_1.html\"\n",
       "            frameborder=\"0\"\n",
       "            allowfullscreen\n",
       "            \n",
       "        ></iframe>\n",
       "        "
      ],
      "text/plain": [
       "<IPython.lib.display.IFrame at 0x106fe3850>"
      ]
     },
     "execution_count": 19,
     "metadata": {},
     "output_type": "execute_result"
    }
   ],
   "source": [
    "# 1: Create a network with all 25 nodes and their edges\n",
    "G = nx.Graph()\n",
    "\n",
    "# Define all nodes\n",
    "nodes = [\n",
    "    'Individual A', 'Company X', 'Individual B', 'Company Y', 'Individual C', 'Company Z', 'Individual D',\n",
    "    'Company A', 'Company B', 'Company C', 'Company D', 'Individual E', 'Individual F', 'Individual G', 'Individual H',\n",
    "    'Company E', 'Company F', 'Company G', 'Company H', 'Individual I', 'Individual J', 'Individual K', 'Individual L', 'Individual M', 'Individual N'\n",
    "]\n",
    "G.add_nodes_from(nodes)\n",
    "\n",
    "# Define all edges\n",
    "edges = [\n",
    "    ('Individual A', 'Company X'), ('Individual A', 'Individual B'),\n",
    "    ('Company X', 'Company Y'), ('Individual B', 'Company Y'),\n",
    "    ('Company Y', 'Individual C'), ('Individual C', 'Company Z'),\n",
    "    ('Individual C', 'Individual D'), ('Company Z', 'Individual D'),\n",
    "    ('Company A', 'Individual A'), ('Company B', 'Individual B'),\n",
    "    ('Company C', 'Company Z'), ('Company D', 'Individual D'),\n",
    "    ('Individual E', 'Individual A'), ('Individual F', 'Individual B'),\n",
    "    ('Individual G', 'Company Z'), ('Individual H', 'Individual D'),\n",
    "    ('Company E', 'Company A'), ('Company F', 'Company B'),\n",
    "    ('Company G', 'Company C'), ('Company H', 'Company D'),\n",
    "    ('Individual I', 'Individual E'), ('Individual J', 'Individual F'),\n",
    "    ('Individual K', 'Individual G'), ('Individual L', 'Individual H'),\n",
    "    ('Individual M', 'Individual I'), ('Individual N', 'Individual J'),\n",
    "    ('Company E', 'Company F'), ('Company G', 'Company H'),\n",
    "    ('Individual I', 'Individual J'), ('Individual K', 'Individual L')\n",
    "]\n",
    "G.add_edges_from(edges)\n",
    "\n",
    "# 2: Generate node2vec walks\n",
    "node2vec = Node2Vec(G, dimensions=64, walk_length=10, num_walks=100, workers=1)\n",
    "walks = [list(map(str, walk)) for walk in node2vec.walks]\n",
    "\n",
    "# 3: Train Word2Vec\n",
    "model = Word2Vec(sentences=walks, vector_size=64, window=5, min_count=1, sg=1, workers=1)\n",
    "\n",
    "# 4: Visualization with pyvis (graph layout)\n",
    "net = Network(notebook=True)\n",
    "for node in G.nodes:\n",
    "    if node in ['Individual A', 'Company X', 'Individual B', 'Company Y', 'Individual C', 'Company Z', 'Individual D']:\n",
    "        color = 'blue'\n",
    "        embedding = model.wv[str(node)]\n",
    "        tooltip = f\"Embedding: {embedding}\"\n",
    "    else:\n",
    "        color = 'grey'\n",
    "        tooltip = \"No embedding\"\n",
    "    net.add_node(str(node), label=str(node), color=color, title=tooltip)\n",
    "for edge in G.edges:\n",
    "    net.add_edge(str(edge[0]), str(edge[1]))\n",
    "net.show(\"graph_step_1.html\")"
   ]
  },
  {
   "cell_type": "code",
   "execution_count": 26,
   "metadata": {},
   "outputs": [
    {
     "name": "stderr",
     "output_type": "stream",
     "text": [
      "Computing transition probabilities: 100%|██████████| 7/7 [00:00<00:00, 5268.28it/s]\n",
      "Generating walks (CPU: 1): 100%|██████████| 100/100 [00:00<00:00, 5131.40it/s]"
     ]
    },
    {
     "name": "stdout",
     "output_type": "stream",
     "text": [
      "Warning: When  cdn_resources is 'local' jupyter notebook has issues displaying graphics on chrome/safari. Use cdn_resources='in_line' or cdn_resources='remote' if you have issues viewing graphics in a notebook.\n",
      "graph_step_2.html\n"
     ]
    },
    {
     "name": "stderr",
     "output_type": "stream",
     "text": [
      "\n"
     ]
    },
    {
     "data": {
      "text/html": [
       "\n",
       "        <iframe\n",
       "            width=\"100%\"\n",
       "            height=\"600px\"\n",
       "            src=\"graph_step_2.html\"\n",
       "            frameborder=\"0\"\n",
       "            allowfullscreen\n",
       "            \n",
       "        ></iframe>\n",
       "        "
      ],
      "text/plain": [
       "<IPython.lib.display.IFrame at 0x30851bf70>"
      ]
     },
     "execution_count": 26,
     "metadata": {},
     "output_type": "execute_result"
    }
   ],
   "source": [
    "G2 = nx.Graph()\n",
    "edges_2 = [\n",
    "    (1, 2), (1, 3), (2, 4), (3, 4),\n",
    "    (4, 5), (5, 6), (5, 7), (6, 7)\n",
    "]\n",
    "G2.add_edges_from(edges_2)\n",
    "\n",
    "# Update node names to reflect individuals and companies\n",
    "node_names_2 = {1: 'Individual A', 2: 'Company X', 3: 'Individual B', 4: 'Company Y', 5: 'Individual C', 6: 'Company Z', 7: 'Individual D'}\n",
    "G2 = nx.relabel_nodes(G2, node_names_2)\n",
    "\n",
    "# 2: Generate node2vec walks\n",
    "node2vec = Node2Vec(G2, dimensions=64, walk_length=10, num_walks=100, workers=1)\n",
    "walks = [list(map(str, walk)) for walk in node2vec.walks]\n",
    "\n",
    "# 3: Train Word2Vec\n",
    "model = Word2Vec(sentences=walks, vector_size=64, window=5, min_count=1, sg=1, workers=1)\n",
    "\n",
    "\n",
    "# 4: Visualization with pyvis (graph layout)\n",
    "net = Network(notebook=True)\n",
    "scores = {\n",
    "    'Individual A': '14%', 'Company X': '31%', 'Individual B': '26%', 'Company Y': '83%',\n",
    "    'Individual C': '54%', 'Company Z': '23%', 'Individual D': '17%'\n",
    "}\n",
    "for node in G2.nodes:\n",
    "    color = 'red' if node == 'Company Y' else 'blue'\n",
    "    embedding = model.wv[str(node)]\n",
    "    score = scores.get(node, 'N/A')\n",
    "    tooltip = f\"Score: {score}\\n\\nEmbedding: {embedding}\"\n",
    "    label = f\"{node}\\n{score}\" if node == 'Company Y' else node\n",
    "    net.add_node(str(node), label=label, color=color, title=tooltip, font={'color': 'red' if node == 'Company Y' else 'black'})\n",
    "for edge in G2.edges:\n",
    "    net.add_edge(str(edge[0]), str(edge[1]))\n",
    "        \n",
    "    \n",
    "net.show(\"graph_step_2.html\")\n",
    "\n",
    "\n",
    "\n"
   ]
  },
  {
   "cell_type": "code",
   "execution_count": 27,
   "metadata": {},
   "outputs": [
    {
     "data": {
      "image/png": "[encoded data removed]",
      "text/plain": [
       "<Figure size 800x600 with 1 Axes>"
      ]
     },
     "metadata": {},
     "output_type": "display_data"
    }
   ],
   "source": [
    "# 5: t-SNE + Matplotlib to visualize embeddings\n",
    "# Collect embeddings\n",
    "labels = list(model.wv.index_to_key)\n",
    "vectors = [model.wv[label] for label in labels]\n",
    "\n",
    "vectors_array = np.array(vectors)\n",
    "\n",
    "# Reduce dimensionality\n",
    "tsne = TSNE(n_components=2, random_state=42, perplexity=5)\n",
    "reduced_vecs = tsne.fit_transform(vectors_array)\n",
    "\n",
    "plt.figure(figsize=(8, 6))\n",
    "for i, label in enumerate(labels):\n",
    "    x, y = reduced_vecs[i]\n",
    "    color = 'red' if label == 'Company Y' else 'blue'\n",
    "    plt.scatter(x, y, color=color)\n",
    "    plt.text(x + 0.01, y + 0.01, label, fontsize=9)\n",
    "plt.title(\"Node Embeddings Visualized with t-SNE\")\n",
    "plt.xlabel(\"t-SNE 1\")\n",
    "plt.ylabel(\"t-SNE 2\")\n",
    "plt.grid(True)\n",
    "plt.tight_layout()\n",
    "plt.show()\n"
   ]
  },
  {
   "cell_type": "code",
   "execution_count": 4,
   "metadata": {},
   "outputs": [
    {
     "data": {
      "text/html": [
       "\n",
       "        <iframe\n",
       "            width=\"800\"\n",
       "            height=\"600\"\n",
       "            src=\"graph_step_1.html\"\n",
       "            frameborder=\"0\"\n",
       "            allowfullscreen\n",
       "            \n",
       "        ></iframe>\n",
       "        "
      ],
      "text/plain": [
       "<IPython.lib.display.IFrame at 0x10cca2d00>"
      ]
     },
     "metadata": {},
     "output_type": "display_data"
    },
    {
     "data": {
      "text/html": [
       "\n",
       "        <iframe\n",
       "            width=\"800\"\n",
       "            height=\"600\"\n",
       "            src=\"graph_step_2.html\"\n",
       "            frameborder=\"0\"\n",
       "            allowfullscreen\n",
       "            \n",
       "        ></iframe>\n",
       "        "
      ],
      "text/plain": [
       "<IPython.lib.display.IFrame at 0x10ccb9b80>"
      ]
     },
     "metadata": {},
     "output_type": "display_data"
    }
   ],
   "source": [
    "# Loading Step 1, 2 and 4 of graph modeling as iframe for reference \n",
    "\n",
    "from IPython.display import IFrame, display\n",
    "\n",
    "display(IFrame('graph_step_1.html', width=800, height=600))\n",
    "display(IFrame('graph_step_2.html', width=800, height=600))"
   ]
  },
  {
   "cell_type": "code",
   "execution_count": null,
   "metadata": {},
   "outputs": [],
   "source": []
  }
 ],
 "metadata": {
  "kernelspec": {
   "display_name": "Python 3 (ipykernel)",
   "language": "python",
   "name": "python3"
  },
  "language_info": {
   "codemirror_mode": {
    "name": "ipython",
    "version": 3
   },
   "file_extension": ".py",
   "mimetype": "text/x-python",
   "name": "python",
   "nbconvert_exporter": "python",
   "pygments_lexer": "ipython3",
   "version": "3.9.16"
  }
 },
 "nbformat": 4,
 "nbformat_minor": 2
}
